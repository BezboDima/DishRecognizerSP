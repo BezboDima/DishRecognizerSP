{
 "cells": [
  {
   "cell_type": "markdown",
   "metadata": {},
   "source": [
    "### In order to start using aws with python \n",
    "* run ```import boto3```\n",
    "* add a user in AWS main account using IAM\n",
    "* add credential keys to ~/.aws/credentials\n",
    "    ``` [default]\n",
    "        aws_access_key_id = YOUR_ACCESS_KEY\n",
    "        aws_secret_access_key = YOUR_SECRET_KEY\n",
    "* add region to ~/.aws/config\n",
    "    ``` [default]\n",
    "        region=us-east-1\n",
    "* add full access policy to the user\n",
    "    ```{\n",
    "        \"Version\": \"2012-10-17\",\n",
    "        \"Statement\": [\n",
    "            {\n",
    "                \"Action\": [\n",
    "                    \"dax:*\"\n",
    "                ],\n",
    "                \"Effect\": \"Allow\",\n",
    "                \"Resource\": [\n",
    "                    \"*\"\n",
    "                ]\n",
    "            },\n",
    "            {\n",
    "                \"Action\": [\n",
    "                    \"dynamodb:*\"\n",
    "                ],\n",
    "                \"Effect\": \"Allow\",\n",
    "                \"Resource\": [\n",
    "                    \"*\"\n",
    "                ]\n",
    "            }\n",
    "        ]\n",
    "    }"
   ]
  },
  {
   "cell_type": "code",
   "execution_count": 1,
   "metadata": {},
   "outputs": [],
   "source": [
    "import boto3\n",
    "\n",
    "# Let's use Amazon S3\n",
    "s3 = boto3.resource('s3')"
   ]
  },
  {
   "cell_type": "markdown",
   "metadata": {},
   "source": [
    "### Might take a few minutes before user will be added, but should be able to run below line and see ```TestTable```"
   ]
  },
  {
   "cell_type": "code",
   "execution_count": 10,
   "metadata": {},
   "outputs": [
    {
     "name": "stdout",
     "output_type": "stream",
     "text": [
      "Table Names:\n",
      "TestTable\n"
     ]
    }
   ],
   "source": [
    "import boto3\n",
    "from botocore.exceptions import NoCredentialsError, PartialCredentialsError\n",
    "\n",
    "try:\n",
    "    # Initialize the DynamoDB client\n",
    "    client = boto3.client('dynamodb', region_name='us-east-1')\n",
    "\n",
    "    # List tables\n",
    "    response = client.list_tables(Limit=10)\n",
    "\n",
    "    # Print the list of table names\n",
    "    print(\"Table Names:\")\n",
    "    for table_name in response['TableNames']:\n",
    "        print(table_name)\n",
    "\n",
    "except NoCredentialsError:\n",
    "    print(\"AWS credentials not found. Please configure your credentials.\")\n",
    "except PartialCredentialsError:\n",
    "    print(\"Incomplete AWS credentials found. Please provide valid AWS credentials.\")\n",
    "except Exception as e:\n",
    "    print(f\"An error occurred: {str(e)}\")"
   ]
  },
  {
   "cell_type": "code",
   "execution_count": null,
   "metadata": {},
   "outputs": [],
   "source": [
    "dynamodb = boto3.resource('dynamodb')\n",
    "table = dynamodb.Table('')"
   ]
  }
 ],
 "metadata": {
  "kernelspec": {
   "display_name": "Python 3",
   "language": "python",
   "name": "python3"
  },
  "language_info": {
   "codemirror_mode": {
    "name": "ipython",
    "version": 3
   },
   "file_extension": ".py",
   "mimetype": "text/x-python",
   "name": "python",
   "nbconvert_exporter": "python",
   "pygments_lexer": "ipython3",
   "version": "3.8.3"
  },
  "orig_nbformat": 4
 },
 "nbformat": 4,
 "nbformat_minor": 2
}
