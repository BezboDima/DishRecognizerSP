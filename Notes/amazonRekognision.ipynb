{
 "cells": [
  {
   "cell_type": "markdown",
   "metadata": {},
   "source": [
    " Run *msiexec.exe /i https://awscli.amazonaws.com/AWSCLIV2.msi* to install AWS CLI"
   ]
  },
  {
   "cell_type": "code",
   "execution_count": 1,
   "metadata": {},
   "outputs": [],
   "source": [
    "import boto3\n",
    "rekognition = boto3.client('rekognition')"
   ]
  },
  {
   "cell_type": "code",
   "execution_count": 4,
   "metadata": {},
   "outputs": [],
   "source": [
    "import boto3\n",
    "rekognition = boto3.client('rekognition')\n",
    "project_arn = \"arn:aws:rekognition:us-east-1:514157727917:project/IngredientModel/1695956073083\"\n",
    "model_version_name = \"FirstIngredientModel\"\n",
    "output_dic = {\n",
    "    'S3Bucket': 'custom-labels-console-us-east-1-e447ba564f',\n",
    "    'S3KeyPrefix': 'migration-do-not-delete/results'\n",
    "}\n",
    "response = rekognition.create_project_version(\n",
    "    ProjectArn=project_arn,\n",
    "    VersionName=model_version_name,\n",
    "    OutputConfig=output_dic,\n",
    ")"
   ]
  },
  {
   "cell_type": "code",
   "execution_count": null,
   "metadata": {},
   "outputs": [],
   "source": []
  }
 ],
 "metadata": {
  "kernelspec": {
   "display_name": "Python 3",
   "language": "python",
   "name": "python3"
  },
  "language_info": {
   "codemirror_mode": {
    "name": "ipython",
    "version": 3
   },
   "file_extension": ".py",
   "mimetype": "text/x-python",
   "name": "python",
   "nbconvert_exporter": "python",
   "pygments_lexer": "ipython3",
   "version": "3.11.5"
  },
  "orig_nbformat": 4
 },
 "nbformat": 4,
 "nbformat_minor": 2
}
